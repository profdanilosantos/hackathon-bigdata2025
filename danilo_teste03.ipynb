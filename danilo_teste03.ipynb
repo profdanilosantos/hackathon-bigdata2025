{
 "cells": [
  {
   "cell_type": "code",
   "execution_count": 12,
   "id": "009ed602",
   "metadata": {},
   "outputs": [],
   "source": [
    "from datetime import datetime, timedelta\n",
    "\n",
    "import pandas as pd\n",
    "import duckdb\n",
    "\n",
    "import numpy as np\n",
    "\n",
    "from sklearn.model_selection import train_test_split\n",
    "from sklearn.ensemble import RandomForestRegressor\n",
    "from sklearn.metrics import mean_squared_error\n"
   ]
  },
  {
   "cell_type": "code",
   "execution_count": 13,
   "id": "695e26c1",
   "metadata": {},
   "outputs": [],
   "source": [
    "# Conecta abrindo / criando um arquivo\n",
    "conn2 = duckdb.connect()"
   ]
  },
  {
   "cell_type": "code",
   "execution_count": 14,
   "id": "96c9fe8b",
   "metadata": {},
   "outputs": [
    {
     "data": {
      "text/html": [
       "<div>\n",
       "<style scoped>\n",
       "    .dataframe tbody tr th:only-of-type {\n",
       "        vertical-align: middle;\n",
       "    }\n",
       "\n",
       "    .dataframe tbody tr th {\n",
       "        vertical-align: top;\n",
       "    }\n",
       "\n",
       "    .dataframe thead th {\n",
       "        text-align: right;\n",
       "    }\n",
       "</style>\n",
       "<table border=\"1\" class=\"dataframe\">\n",
       "  <thead>\n",
       "    <tr style=\"text-align: right;\">\n",
       "      <th></th>\n",
       "      <th>internal_store_id</th>\n",
       "      <th>internal_product_id</th>\n",
       "      <th>distributor_id</th>\n",
       "      <th>transaction_date</th>\n",
       "      <th>reference_date</th>\n",
       "      <th>quantity</th>\n",
       "      <th>gross_value</th>\n",
       "      <th>net_value</th>\n",
       "      <th>gross_profit</th>\n",
       "      <th>discount</th>\n",
       "      <th>taxes</th>\n",
       "    </tr>\n",
       "  </thead>\n",
       "  <tbody>\n",
       "    <tr>\n",
       "      <th>0</th>\n",
       "      <td>7384367747233276219</td>\n",
       "      <td>328903483604537190</td>\n",
       "      <td>9</td>\n",
       "      <td>2022-07-13</td>\n",
       "      <td>2022-07-01</td>\n",
       "      <td>1.0</td>\n",
       "      <td>38.125000</td>\n",
       "      <td>37.890625</td>\n",
       "      <td>10.042625</td>\n",
       "      <td>3.950000</td>\n",
       "      <td>0.234375</td>\n",
       "    </tr>\n",
       "    <tr>\n",
       "      <th>1</th>\n",
       "      <td>3536908514005606262</td>\n",
       "      <td>5418855670645487653</td>\n",
       "      <td>5</td>\n",
       "      <td>2022-03-21</td>\n",
       "      <td>2022-03-01</td>\n",
       "      <td>6.0</td>\n",
       "      <td>107.250000</td>\n",
       "      <td>106.440002</td>\n",
       "      <td>24.732002</td>\n",
       "      <td>17.100000</td>\n",
       "      <td>0.810000</td>\n",
       "    </tr>\n",
       "    <tr>\n",
       "      <th>2</th>\n",
       "      <td>3138231730993449825</td>\n",
       "      <td>1087005562675741887</td>\n",
       "      <td>6</td>\n",
       "      <td>2022-09-06</td>\n",
       "      <td>2022-09-01</td>\n",
       "      <td>3.0</td>\n",
       "      <td>56.625000</td>\n",
       "      <td>56.220001</td>\n",
       "      <td>14.124002</td>\n",
       "      <td>5.250000</td>\n",
       "      <td>0.405000</td>\n",
       "    </tr>\n",
       "    <tr>\n",
       "      <th>3</th>\n",
       "      <td>3681167389484217654</td>\n",
       "      <td>1401422983880045188</td>\n",
       "      <td>5</td>\n",
       "      <td>2022-09-11</td>\n",
       "      <td>2022-09-01</td>\n",
       "      <td>129.0</td>\n",
       "      <td>1037.160023</td>\n",
       "      <td>1037.160023</td>\n",
       "      <td>156.348026</td>\n",
       "      <td>479.880006</td>\n",
       "      <td>0.000000</td>\n",
       "    </tr>\n",
       "    <tr>\n",
       "      <th>4</th>\n",
       "      <td>7762413312337359369</td>\n",
       "      <td>6614994347738381720</td>\n",
       "      <td>4</td>\n",
       "      <td>2022-02-18</td>\n",
       "      <td>2022-02-01</td>\n",
       "      <td>1.0</td>\n",
       "      <td>26.230000</td>\n",
       "      <td>23.950241</td>\n",
       "      <td>6.550241</td>\n",
       "      <td>0.000000</td>\n",
       "      <td>2.279758</td>\n",
       "    </tr>\n",
       "  </tbody>\n",
       "</table>\n",
       "</div>"
      ],
      "text/plain": [
       "     internal_store_id  internal_product_id distributor_id transaction_date  \\\n",
       "0  7384367747233276219   328903483604537190              9       2022-07-13   \n",
       "1  3536908514005606262  5418855670645487653              5       2022-03-21   \n",
       "2  3138231730993449825  1087005562675741887              6       2022-09-06   \n",
       "3  3681167389484217654  1401422983880045188              5       2022-09-11   \n",
       "4  7762413312337359369  6614994347738381720              4       2022-02-18   \n",
       "\n",
       "  reference_date  quantity  gross_value    net_value  gross_profit  \\\n",
       "0     2022-07-01       1.0    38.125000    37.890625     10.042625   \n",
       "1     2022-03-01       6.0   107.250000   106.440002     24.732002   \n",
       "2     2022-09-01       3.0    56.625000    56.220001     14.124002   \n",
       "3     2022-09-01     129.0  1037.160023  1037.160023    156.348026   \n",
       "4     2022-02-01       1.0    26.230000    23.950241      6.550241   \n",
       "\n",
       "     discount     taxes  \n",
       "0    3.950000  0.234375  \n",
       "1   17.100000  0.810000  \n",
       "2    5.250000  0.405000  \n",
       "3  479.880006  0.000000  \n",
       "4    0.000000  2.279758  "
      ]
     },
     "execution_count": 14,
     "metadata": {},
     "output_type": "execute_result"
    }
   ],
   "source": [
    "# Gravação no formato Parquet\n",
    "df_transacao = conn2.execute(\"\"\"\n",
    "    SELECT\n",
    "    *\n",
    "    FROM\n",
    "    read_parquet('./dados/hackathon_2025_templates/part-00000-tid-5196563791502273604-c90d3a24-52f2-4955-b4ec-fb143aae74d8-4-1-c000.snappy.parquet')\n",
    "\"\"\").fetchdf()\n",
    "df_transacao.head()"
   ]
  },
  {
   "cell_type": "code",
   "execution_count": 15,
   "id": "e597bee5",
   "metadata": {},
   "outputs": [
    {
     "data": {
      "text/plain": [
       "(6560698, 11)"
      ]
     },
     "execution_count": 15,
     "metadata": {},
     "output_type": "execute_result"
    }
   ],
   "source": [
    "df_transacao.shape"
   ]
  },
  {
   "cell_type": "code",
   "execution_count": 16,
   "id": "e492fb56",
   "metadata": {},
   "outputs": [
    {
     "name": "stdout",
     "output_type": "stream",
     "text": [
      "<class 'pandas.core.frame.DataFrame'>\n",
      "RangeIndex: 100000 entries, 0 to 99999\n",
      "Data columns (total 4 columns):\n",
      " #   Column      Non-Null Count   Dtype         \n",
      "---  ------      --------------   -----         \n",
      " 0   Data        100000 non-null  datetime64[us]\n",
      " 1   PDV         100000 non-null  object        \n",
      " 2   Produto     100000 non-null  object        \n",
      " 3   Quantidade  100000 non-null  int64         \n",
      "dtypes: datetime64[us](1), int64(1), object(2)\n",
      "memory usage: 3.1+ MB\n"
     ]
    }
   ],
   "source": [
    "# 1. Carregar os dados\n",
    "\n",
    "# Copia apenas 1000 registros e já renomeia as colunas\n",
    "df_work = df_transacao.loc[:99999,['transaction_date', 'internal_store_id', 'internal_product_id', 'quantity']].rename(\n",
    "    columns={\n",
    "        'transaction_date': 'Data',\n",
    "        'internal_store_id': 'PDV',\n",
    "        'internal_product_id': 'Produto',\n",
    "        'quantity': 'Quantidade'\n",
    "    }\n",
    ").copy()\n",
    "\n",
    "# Remove registros com data nula\n",
    "#df_work = df_work.dropna(subset=['Data'])\n",
    "df_work['Data'] = pd.to_datetime(df_work['Data'], errors='coerce')\n",
    "df_work['Quantidade'] = df_work['Quantidade'].astype(int)\n",
    "df_work.describe()\n",
    "df_work.info()\n",
    "#df_work.head()\n"
   ]
  },
  {
   "cell_type": "code",
   "execution_count": 17,
   "id": "43b0c3ab",
   "metadata": {},
   "outputs": [],
   "source": [
    "# Agregação: Exemplo de soma de vendas por mês e região\n",
    "dados_agrupados = df_work.groupby(['Data', 'PDV','Produto']).agg({'Quantidade': 'sum'}).reset_index()\n"
   ]
  },
  {
   "cell_type": "code",
   "execution_count": 18,
   "id": "ae7c758b",
   "metadata": {},
   "outputs": [],
   "source": [
    "# Codificação de variáveis categóricas\n",
    "dados_agrupados = pd.get_dummies(dados_agrupados, columns=['PDV', 'Produto'], drop_first=True)\n"
   ]
  },
  {
   "cell_type": "code",
   "execution_count": 19,
   "id": "6d9b16f8",
   "metadata": {},
   "outputs": [],
   "source": [
    "# Separação entre variáveis independentes (X) e dependente (y)\n",
    "X = dados_agrupados.drop('Quantidade', axis=1)\n",
    "y = dados_agrupados['Quantidade']\n"
   ]
  },
  {
   "cell_type": "code",
   "execution_count": 20,
   "id": "9b0c7d98",
   "metadata": {},
   "outputs": [],
   "source": [
    "# 3. Divisão dos Dados e Treinamento do Modelo Python\n",
    "# Divisão em treino e teste\n",
    "X_treino, X_teste, y_treino, y_teste = train_test_split(X, y, test_size=0.2, random_state=42)\n"
   ]
  },
  {
   "cell_type": "code",
   "execution_count": null,
   "id": "164de3ac",
   "metadata": {},
   "outputs": [],
   "source": [
    "# Treinamento do modelo preditivo\n",
    "modelo = RandomForestRegressor(random_state=42)\n",
    "# O erro ocorre porque a coluna 'Data' está presente em X_treino e X_teste,\n",
    "#  mas RandomForestRegressor não lida com datas.\n",
    "# Solução: remova a coluna 'Data' de X_treino e X_teste antes de treinar o modelo.\n",
    "\n",
    "X_treino_sem_data = X_treino.drop('Data', axis=1)\n",
    "X_teste_sem_data = X_teste.drop('Data', axis=1)\n",
    "\n",
    "modelo.fit(X_treino_sem_data, y_treino)\n"
   ]
  },
  {
   "cell_type": "code",
   "execution_count": null,
   "id": "ed2ca801",
   "metadata": {},
   "outputs": [],
   "source": [
    "# 4. Avaliação do Modelo Python\n",
    "# Previsões\n",
    "y_pred = modelo.predict(X_teste_sem_data)\n"
   ]
  },
  {
   "cell_type": "code",
   "execution_count": null,
   "id": "310f2d3b",
   "metadata": {},
   "outputs": [
    {
     "name": "stdout",
     "output_type": "stream",
     "text": [
      "Erro Quadrático Médio (RMSE): 228.3552009025646\n"
     ]
    }
   ],
   "source": [
    "# Avaliação do desempenho\n",
    "rmse = np.sqrt(mean_squared_error(y_teste, y_pred))\n",
    "print(f'Erro Quadrático Médio (RMSE): {rmse}')\n"
   ]
  },
  {
   "cell_type": "code",
   "execution_count": null,
   "id": "bb8875f4",
   "metadata": {},
   "outputs": [],
   "source": [
    "#5. Visualização (Opcional) Python\n",
    "import matplotlib.pyplot as plt\n"
   ]
  },
  {
   "cell_type": "code",
   "execution_count": null,
   "id": "9dcfeac8",
   "metadata": {},
   "outputs": [
    {
     "data": {
      "image/png": "[encoded data removed]",
      "text/plain": [
       "<Figure size 1000x600 with 1 Axes>"
      ]
     },
     "metadata": {},
     "output_type": "display_data"
    }
   ],
   "source": [
    "# Comparação entre valores reais e previstos\n",
    "plt.figure(figsize=(10, 6))\n",
    "plt.plot(y_teste.values, label='Valores Reais', marker='o')\n",
    "plt.plot(y_pred, label='Valores Previstos', marker='x')\n",
    "plt.legend()\n",
    "plt.title('Comparação de Vendas Reais vs Previstos')\n",
    "plt.show()\n"
   ]
  },
  {
   "cell_type": "code",
   "execution_count": null,
   "id": "aeea44a9",
   "metadata": {},
   "outputs": [],
   "source": [
    "conn2.close()"
   ]
  }
 ],
 "metadata": {
  "kernelspec": {
   "display_name": "venv (3.11.6)",
   "language": "python",
   "name": "python3"
  },
  "language_info": {
   "codemirror_mode": {
    "name": "ipython",
    "version": 3
   },
   "file_extension": ".py",
   "mimetype": "text/x-python",
   "name": "python",
   "nbconvert_exporter": "python",
   "pygments_lexer": "ipython3",
   "version": "3.11.6"
  }
 },
 "nbformat": 4,
 "nbformat_minor": 5
}
